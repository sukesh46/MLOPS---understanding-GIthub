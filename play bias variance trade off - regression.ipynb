{
 "cells": [
  {
   "cell_type": "markdown",
   "id": "ca4038c8",
   "metadata": {},
   "source": [
    "references: \n",
    "\n",
    "ISLR chapter 2 on Bias Variance Tradeoff\n",
    "\n",
    "URLs:\n",
    "\n",
    "http://rasbt.github.io/mlxtend/user_guide/evaluate/bias_variance_decomp/#overview\n",
    "\n",
    "https://www.quantstart.com/articles/The-Bias-Variance-Tradeoff-in-Statistical-Machine-Learning-The-Regression-Setting/"
   ]
  },
  {
   "cell_type": "code",
   "execution_count": 2,
   "id": "29750b01",
   "metadata": {},
   "outputs": [],
   "source": [
    "import warnings\n",
    "warnings.filterwarnings(\"ignore\")"
   ]
  },
  {
   "cell_type": "code",
   "execution_count": 3,
   "id": "d8e40b8d",
   "metadata": {},
   "outputs": [],
   "source": [
    "import pandas as pd\n",
    "import numpy as np\n",
    "np.random.seed(0)\n",
    "from sklearn.tree import DecisionTreeRegressor\n",
    "from sklearn.linear_model import LinearRegression, Lasso\n",
    "import matplotlib.pyplot as plt\n",
    "from sklearn.model_selection import train_test_split"
   ]
  },
  {
   "cell_type": "code",
   "execution_count": 4,
   "id": "7c0e2ded",
   "metadata": {},
   "outputs": [
    {
     "data": {
      "text/html": [
       "<div>\n",
       "<style scoped>\n",
       "    .dataframe tbody tr th:only-of-type {\n",
       "        vertical-align: middle;\n",
       "    }\n",
       "\n",
       "    .dataframe tbody tr th {\n",
       "        vertical-align: top;\n",
       "    }\n",
       "\n",
       "    .dataframe thead th {\n",
       "        text-align: right;\n",
       "    }\n",
       "</style>\n",
       "<table border=\"1\" class=\"dataframe\">\n",
       "  <thead>\n",
       "    <tr style=\"text-align: right;\">\n",
       "      <th></th>\n",
       "      <th>RMSD</th>\n",
       "      <th>F1</th>\n",
       "      <th>F2</th>\n",
       "      <th>F3</th>\n",
       "      <th>F4</th>\n",
       "      <th>F5</th>\n",
       "      <th>F6</th>\n",
       "      <th>F7</th>\n",
       "      <th>F8</th>\n",
       "      <th>F9</th>\n",
       "    </tr>\n",
       "  </thead>\n",
       "  <tbody>\n",
       "    <tr>\n",
       "      <th>0</th>\n",
       "      <td>17.284</td>\n",
       "      <td>13558.30</td>\n",
       "      <td>4305.35</td>\n",
       "      <td>0.31754</td>\n",
       "      <td>162.1730</td>\n",
       "      <td>1.872791e+06</td>\n",
       "      <td>215.3590</td>\n",
       "      <td>4287.87</td>\n",
       "      <td>102</td>\n",
       "      <td>27.0302</td>\n",
       "    </tr>\n",
       "    <tr>\n",
       "      <th>1</th>\n",
       "      <td>6.021</td>\n",
       "      <td>6191.96</td>\n",
       "      <td>1623.16</td>\n",
       "      <td>0.26213</td>\n",
       "      <td>53.3894</td>\n",
       "      <td>8.034467e+05</td>\n",
       "      <td>87.2024</td>\n",
       "      <td>3328.91</td>\n",
       "      <td>39</td>\n",
       "      <td>38.5468</td>\n",
       "    </tr>\n",
       "    <tr>\n",
       "      <th>2</th>\n",
       "      <td>9.275</td>\n",
       "      <td>7725.98</td>\n",
       "      <td>1726.28</td>\n",
       "      <td>0.22343</td>\n",
       "      <td>67.2887</td>\n",
       "      <td>1.075648e+06</td>\n",
       "      <td>81.7913</td>\n",
       "      <td>2981.04</td>\n",
       "      <td>29</td>\n",
       "      <td>38.8119</td>\n",
       "    </tr>\n",
       "    <tr>\n",
       "      <th>3</th>\n",
       "      <td>15.851</td>\n",
       "      <td>8424.58</td>\n",
       "      <td>2368.25</td>\n",
       "      <td>0.28111</td>\n",
       "      <td>67.8325</td>\n",
       "      <td>1.210472e+06</td>\n",
       "      <td>109.4390</td>\n",
       "      <td>3248.22</td>\n",
       "      <td>70</td>\n",
       "      <td>39.0651</td>\n",
       "    </tr>\n",
       "    <tr>\n",
       "      <th>4</th>\n",
       "      <td>7.962</td>\n",
       "      <td>7460.84</td>\n",
       "      <td>1736.94</td>\n",
       "      <td>0.23280</td>\n",
       "      <td>52.4123</td>\n",
       "      <td>1.021020e+06</td>\n",
       "      <td>94.5234</td>\n",
       "      <td>2814.42</td>\n",
       "      <td>41</td>\n",
       "      <td>39.9147</td>\n",
       "    </tr>\n",
       "  </tbody>\n",
       "</table>\n",
       "</div>"
      ],
      "text/plain": [
       "     RMSD        F1       F2       F3        F4            F5        F6  \\\n",
       "0  17.284  13558.30  4305.35  0.31754  162.1730  1.872791e+06  215.3590   \n",
       "1   6.021   6191.96  1623.16  0.26213   53.3894  8.034467e+05   87.2024   \n",
       "2   9.275   7725.98  1726.28  0.22343   67.2887  1.075648e+06   81.7913   \n",
       "3  15.851   8424.58  2368.25  0.28111   67.8325  1.210472e+06  109.4390   \n",
       "4   7.962   7460.84  1736.94  0.23280   52.4123  1.021020e+06   94.5234   \n",
       "\n",
       "        F7   F8       F9  \n",
       "0  4287.87  102  27.0302  \n",
       "1  3328.91   39  38.5468  \n",
       "2  2981.04   29  38.8119  \n",
       "3  3248.22   70  39.0651  \n",
       "4  2814.42   41  39.9147  "
      ]
     },
     "execution_count": 4,
     "metadata": {},
     "output_type": "execute_result"
    }
   ],
   "source": [
    "df = pd.read_csv(\"CASP.csv\")\n",
    "df.head()"
   ]
  },
  {
   "cell_type": "code",
   "execution_count": 5,
   "id": "83832dbd",
   "metadata": {},
   "outputs": [
    {
     "data": {
      "text/plain": [
       "(45730, 10)"
      ]
     },
     "execution_count": 5,
     "metadata": {},
     "output_type": "execute_result"
    }
   ],
   "source": [
    "df.shape"
   ]
  },
  {
   "cell_type": "code",
   "execution_count": 6,
   "id": "70d3e261",
   "metadata": {},
   "outputs": [
    {
     "data": {
      "text/plain": [
       "(45730, 10)"
      ]
     },
     "execution_count": 6,
     "metadata": {},
     "output_type": "execute_result"
    }
   ],
   "source": [
    "# shows there are no missing values\n",
    "df.dropna().shape"
   ]
  },
  {
   "cell_type": "code",
   "execution_count": 7,
   "id": "d92e2a01",
   "metadata": {},
   "outputs": [],
   "source": [
    "train, test = train_test_split(df, test_size=0.1,random_state=0)"
   ]
  },
  {
   "cell_type": "code",
   "execution_count": 8,
   "id": "d7218f8e",
   "metadata": {},
   "outputs": [
    {
     "data": {
      "text/plain": [
       "((41157, 10), (4573, 10))"
      ]
     },
     "execution_count": 8,
     "metadata": {},
     "output_type": "execute_result"
    }
   ],
   "source": [
    "train.shape, test.shape"
   ]
  },
  {
   "cell_type": "code",
   "execution_count": 9,
   "id": "c0ad37f4",
   "metadata": {},
   "outputs": [],
   "source": [
    "X_test = test.drop(['F9'], axis=1) \n",
    "y_test = test['F9']"
   ]
  },
  {
   "cell_type": "code",
   "execution_count": 10,
   "id": "966524d7",
   "metadata": {},
   "outputs": [],
   "source": [
    "depth=2\n",
    "k = 5\n",
    "preds = []\n",
    "for i in np.arange(k):\n",
    "    # draw a training set from train portion\n",
    "    ignore, training = train_test_split(train, test_size=0.3)\n",
    "    X_training = training.drop(['F9'], axis=1) \n",
    "    y_training = training['F9']\n",
    "    # fit a decision tree model using training set\n",
    "    decision_tree = DecisionTreeRegressor(criterion='squared_error', max_depth=depth).fit(X_training, y_training)\n",
    "    y_hat = decision_tree.predict(X_test)\n",
    "    preds.append(y_hat) # each list element has the full set of predicted values for y_hat"
   ]
  },
  {
   "cell_type": "code",
   "execution_count": 11,
   "id": "b7c35bd8",
   "metadata": {},
   "outputs": [
    {
     "data": {
      "text/plain": [
       "((4573,), (4573,), list, (4573,), 5)"
      ]
     },
     "execution_count": 11,
     "metadata": {},
     "output_type": "execute_result"
    }
   ],
   "source": [
    "y_hat.shape, y_test.shape, type(preds), preds[0].shape, len(preds)"
   ]
  },
  {
   "cell_type": "code",
   "execution_count": 12,
   "id": "9401d35a",
   "metadata": {},
   "outputs": [],
   "source": [
    "# k = len(preds)\n",
    "pred_df = pd.DataFrame()\n",
    "for i in np.arange(k):\n",
    "#    print(i, preds[i].shape)\n",
    "    pred_df = pd.concat([pred_df, pd.DataFrame(preds[i])], axis=1)"
   ]
  },
  {
   "cell_type": "code",
   "execution_count": 13,
   "id": "1e1f6abc",
   "metadata": {},
   "outputs": [
    {
     "data": {
      "text/plain": [
       "(4573, 5)"
      ]
     },
     "execution_count": 13,
     "metadata": {},
     "output_type": "execute_result"
    }
   ],
   "source": [
    "pred_df.shape"
   ]
  },
  {
   "cell_type": "code",
   "execution_count": 14,
   "id": "58d1f7ec",
   "metadata": {},
   "outputs": [
    {
     "data": {
      "text/html": [
       "<div>\n",
       "<style scoped>\n",
       "    .dataframe tbody tr th:only-of-type {\n",
       "        vertical-align: middle;\n",
       "    }\n",
       "\n",
       "    .dataframe tbody tr th {\n",
       "        vertical-align: top;\n",
       "    }\n",
       "\n",
       "    .dataframe thead th {\n",
       "        text-align: right;\n",
       "    }\n",
       "</style>\n",
       "<table border=\"1\" class=\"dataframe\">\n",
       "  <thead>\n",
       "    <tr style=\"text-align: right;\">\n",
       "      <th></th>\n",
       "      <th>0</th>\n",
       "      <th>0</th>\n",
       "      <th>0</th>\n",
       "      <th>0</th>\n",
       "      <th>0</th>\n",
       "    </tr>\n",
       "  </thead>\n",
       "  <tbody>\n",
       "    <tr>\n",
       "      <th>0</th>\n",
       "      <td>35.205725</td>\n",
       "      <td>35.810099</td>\n",
       "      <td>35.840837</td>\n",
       "      <td>35.148516</td>\n",
       "      <td>35.215019</td>\n",
       "    </tr>\n",
       "    <tr>\n",
       "      <th>1</th>\n",
       "      <td>30.000201</td>\n",
       "      <td>30.494118</td>\n",
       "      <td>30.898251</td>\n",
       "      <td>29.665822</td>\n",
       "      <td>29.973245</td>\n",
       "    </tr>\n",
       "    <tr>\n",
       "      <th>2</th>\n",
       "      <td>40.351807</td>\n",
       "      <td>40.920273</td>\n",
       "      <td>40.865965</td>\n",
       "      <td>40.344012</td>\n",
       "      <td>40.384285</td>\n",
       "    </tr>\n",
       "    <tr>\n",
       "      <th>3</th>\n",
       "      <td>35.205725</td>\n",
       "      <td>35.810099</td>\n",
       "      <td>35.840837</td>\n",
       "      <td>35.148516</td>\n",
       "      <td>35.215019</td>\n",
       "    </tr>\n",
       "    <tr>\n",
       "      <th>4</th>\n",
       "      <td>35.205725</td>\n",
       "      <td>30.494118</td>\n",
       "      <td>30.898251</td>\n",
       "      <td>35.148516</td>\n",
       "      <td>35.215019</td>\n",
       "    </tr>\n",
       "  </tbody>\n",
       "</table>\n",
       "</div>"
      ],
      "text/plain": [
       "           0          0          0          0          0\n",
       "0  35.205725  35.810099  35.840837  35.148516  35.215019\n",
       "1  30.000201  30.494118  30.898251  29.665822  29.973245\n",
       "2  40.351807  40.920273  40.865965  40.344012  40.384285\n",
       "3  35.205725  35.810099  35.840837  35.148516  35.215019\n",
       "4  35.205725  30.494118  30.898251  35.148516  35.215019"
      ]
     },
     "execution_count": 14,
     "metadata": {},
     "output_type": "execute_result"
    }
   ],
   "source": [
    "pred_df.head()"
   ]
  },
  {
   "cell_type": "code",
   "execution_count": 15,
   "id": "96172cd9",
   "metadata": {},
   "outputs": [
    {
     "data": {
      "text/plain": [
       "0    35.205725\n",
       "0    35.810099\n",
       "0    35.840837\n",
       "0    35.148516\n",
       "0    35.215019\n",
       "Name: 0, dtype: float64"
      ]
     },
     "execution_count": 15,
     "metadata": {},
     "output_type": "execute_result"
    }
   ],
   "source": [
    "pred_df.iloc[0][:]"
   ]
  },
  {
   "cell_type": "code",
   "execution_count": 14,
   "id": "d2616b65",
   "metadata": {},
   "outputs": [],
   "source": [
    "var = np.array([])\n",
    "for i in np.arange(pred_df.shape[0]):\n",
    "    var = np.append(var, np.var(pred_df.iloc[i][:]))"
   ]
  },
  {
   "cell_type": "code",
   "execution_count": 15,
   "id": "ae94d87c",
   "metadata": {},
   "outputs": [
    {
     "data": {
      "text/plain": [
       "(4573,)"
      ]
     },
     "execution_count": 15,
     "metadata": {},
     "output_type": "execute_result"
    }
   ],
   "source": [
    "var.shape"
   ]
  },
  {
   "cell_type": "code",
   "execution_count": 16,
   "id": "a23df142",
   "metadata": {},
   "outputs": [
    {
     "data": {
      "text/plain": [
       "0.9190565243804195"
      ]
     },
     "execution_count": 16,
     "metadata": {},
     "output_type": "execute_result"
    }
   ],
   "source": [
    "np.mean(var)"
   ]
  },
  {
   "cell_type": "code",
   "execution_count": 17,
   "id": "aece81fb",
   "metadata": {},
   "outputs": [],
   "source": [
    "# create this piece of code as a function and repeatedly call it with varying level of depth"
   ]
  },
  {
   "cell_type": "code",
   "execution_count": 18,
   "id": "e418e25a",
   "metadata": {},
   "outputs": [],
   "source": [
    "def calc_bias_variance_dtree(depth):\n",
    "    k = 10\n",
    "    preds = []\n",
    "    pred_df = pd.DataFrame()\n",
    "    for i in np.arange(k):\n",
    "        # draw a training set from train portion\n",
    "        _, training = train_test_split(train, test_size=0.3)\n",
    "        X_training = training.drop(['F9'], axis=1) \n",
    "        y_training = training['F9']\n",
    "        # fit a decision tree model using training set\n",
    "        decision_tree = DecisionTreeRegressor(criterion='squared_error', max_depth=depth,random_state=0).fit(X_training, y_training)\n",
    "        y_hat = decision_tree.predict(X_test)\n",
    "        preds.append(y_hat)\n",
    "        pred_df = pd.concat([pred_df, pd.DataFrame(preds[i])], axis=1)\n",
    "    \n",
    "    # calculate variance as the variance among the value for the same sample from various models bias\n",
    "    var = np.array([])\n",
    "    for i in np.arange(pred_df.shape[0]):\n",
    "        var = np.append(var, np.var(pred_df.iloc[i][:]))\n",
    "\n",
    "    # calculate bias, as the gap between truth and avg of predicted values\n",
    "    # each row has k values predicted for the sample. get the mean of these columns. \n",
    "    # mean of squares of gap between that and true y.        \n",
    "    pred_df['rowmean'] = pred_df.mean(axis=1) # row means i.e. E(yhat across models)\n",
    "    gap = np.array(y_test) - np.array(pred_df.rowmean)\n",
    "    \n",
    "    return np.mean(var),np.mean(gap**2)"
   ]
  },
  {
   "cell_type": "code",
   "execution_count": 25,
   "id": "70d34ba3",
   "metadata": {},
   "outputs": [
    {
     "data": {
      "text/plain": [
       "0       35.444039\n",
       "1       30.206327\n",
       "2       40.573269\n",
       "3       35.444039\n",
       "4       33.392326\n",
       "          ...    \n",
       "4568    30.206327\n",
       "4569    40.573269\n",
       "4570    30.206327\n",
       "4571    35.444039\n",
       "4572    40.573269\n",
       "Length: 4573, dtype: float64"
      ]
     },
     "execution_count": 25,
     "metadata": {},
     "output_type": "execute_result"
    }
   ],
   "source": [
    "pred_df.mean(axis=1)"
   ]
  },
  {
   "cell_type": "code",
   "execution_count": 19,
   "id": "e230c4bc",
   "metadata": {},
   "outputs": [],
   "source": [
    "var_lst = []\n",
    "bias_lst = []\n",
    "depths = np.arange(start=2,stop=10,step=1)\n",
    "for i in depths:\n",
    "    depth = i+1\n",
    "    var_lst.append(calc_bias_variance_dtree(depth)[0])\n",
    "    bias_lst.append(calc_bias_variance_dtree(depth)[1])"
   ]
  },
  {
   "cell_type": "code",
   "execution_count": 20,
   "id": "16b1d90a",
   "metadata": {},
   "outputs": [
    {
     "data": {
      "image/png": "[encoded data removed]",
      "text/plain": [
       "<Figure size 432x288 with 1 Axes>"
      ]
     },
     "metadata": {
      "needs_background": "light"
     },
     "output_type": "display_data"
    },
    {
     "data": {
      "image/png": "[encoded data removed]",
      "text/plain": [
       "<Figure size 432x288 with 1 Axes>"
      ]
     },
     "metadata": {
      "needs_background": "light"
     },
     "output_type": "display_data"
    }
   ],
   "source": [
    "plt.plot(depths,var_lst)\n",
    "plt.show()\n",
    "plt.plot(depths,bias_lst)\n",
    "plt.show()"
   ]
  },
  {
   "cell_type": "code",
   "execution_count": 21,
   "id": "ef92997c",
   "metadata": {},
   "outputs": [],
   "source": [
    "def calc_bias_variance_lasso(alpha):\n",
    "    k = 10\n",
    "    preds = []\n",
    "    pred_df = pd.DataFrame()\n",
    "    for i in np.arange(k):\n",
    "        # draw a training set from train portion\n",
    "        _, training = train_test_split(train, test_size=0.3)\n",
    "        X_training = training.drop(['F9'], axis=1) \n",
    "        y_training = training['F9']\n",
    "        # fit a regression model using training set\n",
    "        sample_lasso_model = Lasso(alpha=alpha, normalize=True)\n",
    "        sample_lasso_model.fit(X_training,y_training)\n",
    "        y_hat = sample_lasso_model.predict(X_test)\n",
    "        preds.append(y_hat)\n",
    "        pred_df = pd.concat([pred_df, pd.DataFrame(preds[i])], axis=1)\n",
    "    \n",
    "    var = np.array([])\n",
    "    for i in np.arange(pred_df.shape[0]):\n",
    "        var = np.append(var, np.var(pred_df.iloc[i][:]))\n",
    "    \n",
    "    pred_df['rowmean'] = pred_df.mean(axis=1)\n",
    "    gap = np.array(y_test) - np.array(pred_df.rowmean)\n",
    "    \n",
    "    return np.mean(var),np.mean(gap**2)"
   ]
  },
  {
   "cell_type": "code",
   "execution_count": 22,
   "id": "6d1b2cab",
   "metadata": {},
   "outputs": [],
   "source": [
    "var_lst = []\n",
    "bias_lst = []\n",
    "alphas = np.arange(start=0,stop=10,step=1)\n",
    "for i in alphas:\n",
    "    alpha = i\n",
    "    var_lst.append(calc_bias_variance_lasso(alpha)[0])\n",
    "    bias_lst.append(calc_bias_variance_lasso(alpha)[1])"
   ]
  },
  {
   "cell_type": "code",
   "execution_count": 23,
   "id": "48f98720",
   "metadata": {},
   "outputs": [
    {
     "data": {
      "image/png": "[encoded data removed]",
      "text/plain": [
       "<Figure size 432x288 with 1 Axes>"
      ]
     },
     "metadata": {
      "needs_background": "light"
     },
     "output_type": "display_data"
    },
    {
     "data": {
      "image/png": "[encoded data removed]",
      "text/plain": [
       "<Figure size 432x288 with 1 Axes>"
      ]
     },
     "metadata": {
      "needs_background": "light"
     },
     "output_type": "display_data"
    }
   ],
   "source": [
    "plt.plot(alphas,var_lst)\n",
    "plt.show()\n",
    "plt.plot(alphas,bias_lst)\n",
    "plt.show()"
   ]
  },
  {
   "cell_type": "code",
   "execution_count": null,
   "id": "0eadbfc9",
   "metadata": {},
   "outputs": [],
   "source": []
  }
 ],
 "metadata": {
  "kernelspec": {
   "display_name": "Python 3 (ipykernel)",
   "language": "python",
   "name": "python3"
  },
  "language_info": {
   "codemirror_mode": {
    "name": "ipython",
    "version": 3
   },
   "file_extension": ".py",
   "mimetype": "text/x-python",
   "name": "python",
   "nbconvert_exporter": "python",
   "pygments_lexer": "ipython3",
   "version": "3.11.3"
  }
 },
 "nbformat": 4,
 "nbformat_minor": 5
}
